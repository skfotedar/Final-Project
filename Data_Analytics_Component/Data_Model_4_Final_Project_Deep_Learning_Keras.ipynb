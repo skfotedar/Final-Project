{
  "cells": [
    {
      "cell_type": "markdown",
      "metadata": {
        "id": "T7ZNhGcW6q6r"
      },
      "source": [
        "# Final Project: Deep Neutral Network\n",
        "## Model 4: Predict Glacier Retreat with Tensor Flow's Keras"
      ]
    },
    {
      "cell_type": "code",
      "execution_count": 20,
      "metadata": {
        "id": "0otrXpJc6q6u"
      },
      "outputs": [],
      "source": [
        "# Imports\n",
        "import pandas as pd\n",
        "import tensorflow as tf\n",
        "from tensorflow.keras.layers import Dense\n",
        "from tensorflow.keras.models import Sequential\n",
        "from sklearn.model_selection import train_test_split\n",
        "from sklearn.preprocessing import StandardScaler\n",
        "from sklearn.metrics import classification_report\n",
        "from pathlib import Path"
      ]
    },
    {
      "cell_type": "markdown",
      "metadata": {
        "id": "OpV4Y-3Z6q6w"
      },
      "source": [
        "---\n",
        "\n",
        "Step 1: Prepare the data to be used on a neural network model\n",
        "\n",
        "Note:  The raw data files have been cleaned and prepared for use in the\n",
        "\n",
        "Jupyter Source File \"Data_Cleaning_Glacier_Retreat\".  The output for this file\n",
        "\n",
        "is in the \"resources\" folder and includes data sets for each of the following:\n",
        "1.  Environmental Parameters:  Global Temperature, Global Sea Rise, and Global CO2\n",
        "        Filename:  env_parameters_1.csv\n",
        "\n",
        "2.  Population, Economic, and Farming Parameters: World Population, Urban Population,\n",
        "        investment, and cereal output production by acre.\n",
        "        filename: pop_farm_parameters_2.csv\n",
        "\n",
        "3.  Change in Temperature by Country:  Average delta T by country.\n",
        "        filename: dT_Country_parameters_3.csv\n",
        "\n",
        "4.  Change in Forestation by Country:  Percent change in forestation by country.\n",
        "        filename: deforest_parameters_4.csv"
      ]
    },
    {
      "cell_type": "markdown",
      "metadata": {},
      "source": [
        "---\n",
        "### Fourth Model: Glacier Retreat with Change in Forestation by Country"
      ]
    },
    {
      "cell_type": "code",
      "execution_count": 21,
      "metadata": {},
      "outputs": [
        {
          "data": {
            "text/html": [
              "<div>\n",
              "<style scoped>\n",
              "    .dataframe tbody tr th:only-of-type {\n",
              "        vertical-align: middle;\n",
              "    }\n",
              "\n",
              "    .dataframe tbody tr th {\n",
              "        vertical-align: top;\n",
              "    }\n",
              "\n",
              "    .dataframe thead th {\n",
              "        text-align: right;\n",
              "    }\n",
              "</style>\n",
              "<table border=\"1\" class=\"dataframe\">\n",
              "  <thead>\n",
              "    <tr style=\"text-align: right;\">\n",
              "      <th></th>\n",
              "      <th>year</th>\n",
              "      <th>glacier_retreat</th>\n",
              "      <th>AFE</th>\n",
              "      <th>AFW</th>\n",
              "      <th>AGO</th>\n",
              "      <th>ALB</th>\n",
              "      <th>ARB</th>\n",
              "      <th>ARE</th>\n",
              "      <th>ARG</th>\n",
              "      <th>ARM</th>\n",
              "      <th>...</th>\n",
              "      <th>USA</th>\n",
              "      <th>UZB</th>\n",
              "      <th>VCT</th>\n",
              "      <th>VEN</th>\n",
              "      <th>VGB</th>\n",
              "      <th>VIR</th>\n",
              "      <th>VNM</th>\n",
              "      <th>WLD</th>\n",
              "      <th>WSM</th>\n",
              "      <th>ZMB</th>\n",
              "    </tr>\n",
              "  </thead>\n",
              "  <tbody>\n",
              "    <tr>\n",
              "      <th>0</th>\n",
              "      <td>1991</td>\n",
              "      <td>1</td>\n",
              "      <td>-0.151253</td>\n",
              "      <td>-0.118162</td>\n",
              "      <td>-0.124663</td>\n",
              "      <td>-0.071168</td>\n",
              "      <td>-0.018069</td>\n",
              "      <td>0.090721</td>\n",
              "      <td>-0.066723</td>\n",
              "      <td>0.000000</td>\n",
              "      <td>...</td>\n",
              "      <td>0.011857</td>\n",
              "      <td>0.000000</td>\n",
              "      <td>0.25641</td>\n",
              "      <td>-0.325945</td>\n",
              "      <td>-0.026667</td>\n",
              "      <td>-1.162857</td>\n",
              "      <td>0.739851</td>\n",
              "      <td>0.000000</td>\n",
              "      <td>-0.170318</td>\n",
              "      <td>-0.048158</td>\n",
              "    </tr>\n",
              "    <tr>\n",
              "      <th>1</th>\n",
              "      <td>1992</td>\n",
              "      <td>1</td>\n",
              "      <td>-0.151253</td>\n",
              "      <td>-0.118162</td>\n",
              "      <td>-0.124663</td>\n",
              "      <td>-0.071168</td>\n",
              "      <td>-0.018074</td>\n",
              "      <td>0.090721</td>\n",
              "      <td>-0.066723</td>\n",
              "      <td>11.742606</td>\n",
              "      <td>...</td>\n",
              "      <td>0.011857</td>\n",
              "      <td>6.186621</td>\n",
              "      <td>0.25641</td>\n",
              "      <td>-0.325945</td>\n",
              "      <td>-0.026667</td>\n",
              "      <td>-1.162857</td>\n",
              "      <td>0.739851</td>\n",
              "      <td>32.511019</td>\n",
              "      <td>-0.170318</td>\n",
              "      <td>-0.048158</td>\n",
              "    </tr>\n",
              "    <tr>\n",
              "      <th>2</th>\n",
              "      <td>1993</td>\n",
              "      <td>0</td>\n",
              "      <td>-0.151253</td>\n",
              "      <td>-0.118162</td>\n",
              "      <td>-0.124663</td>\n",
              "      <td>-0.071168</td>\n",
              "      <td>-0.018069</td>\n",
              "      <td>0.090721</td>\n",
              "      <td>-0.066723</td>\n",
              "      <td>-0.007341</td>\n",
              "      <td>...</td>\n",
              "      <td>0.011857</td>\n",
              "      <td>0.096871</td>\n",
              "      <td>0.25641</td>\n",
              "      <td>-0.325945</td>\n",
              "      <td>-0.026667</td>\n",
              "      <td>-1.162857</td>\n",
              "      <td>0.739851</td>\n",
              "      <td>-0.056167</td>\n",
              "      <td>-0.170318</td>\n",
              "      <td>-0.048158</td>\n",
              "    </tr>\n",
              "    <tr>\n",
              "      <th>3</th>\n",
              "      <td>1994</td>\n",
              "      <td>1</td>\n",
              "      <td>-0.151253</td>\n",
              "      <td>-0.118162</td>\n",
              "      <td>-0.124663</td>\n",
              "      <td>-0.071168</td>\n",
              "      <td>-0.018069</td>\n",
              "      <td>0.090721</td>\n",
              "      <td>-0.066723</td>\n",
              "      <td>-0.007341</td>\n",
              "      <td>...</td>\n",
              "      <td>0.011857</td>\n",
              "      <td>0.096871</td>\n",
              "      <td>0.25641</td>\n",
              "      <td>-0.325945</td>\n",
              "      <td>-0.026667</td>\n",
              "      <td>-1.162857</td>\n",
              "      <td>0.739851</td>\n",
              "      <td>-0.057699</td>\n",
              "      <td>-0.170318</td>\n",
              "      <td>-0.048158</td>\n",
              "    </tr>\n",
              "    <tr>\n",
              "      <th>4</th>\n",
              "      <td>1995</td>\n",
              "      <td>0</td>\n",
              "      <td>-0.151253</td>\n",
              "      <td>-0.118162</td>\n",
              "      <td>-0.124663</td>\n",
              "      <td>-0.071168</td>\n",
              "      <td>-0.018069</td>\n",
              "      <td>0.090721</td>\n",
              "      <td>-0.066723</td>\n",
              "      <td>-0.007341</td>\n",
              "      <td>...</td>\n",
              "      <td>0.011857</td>\n",
              "      <td>0.096871</td>\n",
              "      <td>0.25641</td>\n",
              "      <td>-0.325945</td>\n",
              "      <td>-0.026667</td>\n",
              "      <td>-1.162857</td>\n",
              "      <td>0.739851</td>\n",
              "      <td>-0.059895</td>\n",
              "      <td>-0.170318</td>\n",
              "      <td>-0.048158</td>\n",
              "    </tr>\n",
              "  </tbody>\n",
              "</table>\n",
              "<p>5 rows × 230 columns</p>\n",
              "</div>"
            ],
            "text/plain": [
              "   year  glacier_retreat       AFE       AFW       AGO       ALB       ARB  \\\n",
              "0  1991                1 -0.151253 -0.118162 -0.124663 -0.071168 -0.018069   \n",
              "1  1992                1 -0.151253 -0.118162 -0.124663 -0.071168 -0.018074   \n",
              "2  1993                0 -0.151253 -0.118162 -0.124663 -0.071168 -0.018069   \n",
              "3  1994                1 -0.151253 -0.118162 -0.124663 -0.071168 -0.018069   \n",
              "4  1995                0 -0.151253 -0.118162 -0.124663 -0.071168 -0.018069   \n",
              "\n",
              "        ARE       ARG        ARM  ...       USA       UZB      VCT       VEN  \\\n",
              "0  0.090721 -0.066723   0.000000  ...  0.011857  0.000000  0.25641 -0.325945   \n",
              "1  0.090721 -0.066723  11.742606  ...  0.011857  6.186621  0.25641 -0.325945   \n",
              "2  0.090721 -0.066723  -0.007341  ...  0.011857  0.096871  0.25641 -0.325945   \n",
              "3  0.090721 -0.066723  -0.007341  ...  0.011857  0.096871  0.25641 -0.325945   \n",
              "4  0.090721 -0.066723  -0.007341  ...  0.011857  0.096871  0.25641 -0.325945   \n",
              "\n",
              "        VGB       VIR       VNM        WLD       WSM       ZMB  \n",
              "0 -0.026667 -1.162857  0.739851   0.000000 -0.170318 -0.048158  \n",
              "1 -0.026667 -1.162857  0.739851  32.511019 -0.170318 -0.048158  \n",
              "2 -0.026667 -1.162857  0.739851  -0.056167 -0.170318 -0.048158  \n",
              "3 -0.026667 -1.162857  0.739851  -0.057699 -0.170318 -0.048158  \n",
              "4 -0.026667 -1.162857  0.739851  -0.059895 -0.170318 -0.048158  \n",
              "\n",
              "[5 rows x 230 columns]"
            ]
          },
          "execution_count": 21,
          "metadata": {},
          "output_type": "execute_result"
        }
      ],
      "source": [
        "# Review and load the dataset for Percent Change in Forestation by Country\n",
        "file_path = \"resources\\deforest_parameters_4.csv\"\n",
        "df_parameters_1 = pd.read_csv(file_path)\n",
        "\n",
        "# Review the DataFrame\n",
        "df_parameters_1.head()"
      ]
    },
    {
      "cell_type": "code",
      "execution_count": 22,
      "metadata": {
        "colab": {
          "base_uri": "https://localhost:8080/",
          "height": 178
        },
        "id": "9P8aX-dW75JO",
        "outputId": "eb66ceff-c400-4935-b1f8-a692d4489ec2"
      },
      "outputs": [
        {
          "data": {
            "text/plain": [
              "glacier_retreat\n",
              "0    18\n",
              "1    13\n",
              "Name: count, dtype: int64"
            ]
          },
          "execution_count": 22,
          "metadata": {},
          "output_type": "execute_result"
        }
      ],
      "source": [
        "# Check the glacier retreat value counts\n",
        "df_parameters_1[\"glacier_retreat\"].value_counts()\n",
        "# low quantity but evenly split"
      ]
    },
    {
      "cell_type": "markdown",
      "metadata": {
        "id": "R6vbZeDH6q6y"
      },
      "source": [
        "Step 2: Using the preprocessed data, create the features (`X`) and target (`y`) datasets. The target dataset should be defined by the preprocessed DataFrame column “glacier_retreat”. The remaining columns should define the features dataset."
      ]
    },
    {
      "cell_type": "code",
      "execution_count": 23,
      "metadata": {
        "colab": {
          "base_uri": "https://localhost:8080/"
        },
        "id": "Q5eVAP5M6q6y",
        "outputId": "1c30e844-11ca-4c0b-bd94-a943b9d3f558"
      },
      "outputs": [
        {
          "data": {
            "text/plain": [
              "array([1, 1, 0, 1, 0, 1, 0, 0, 0, 1, 1, 0, 1, 0, 0, 1, 0, 1, 1, 0, 0, 0,\n",
              "       1, 0, 0, 0, 1, 0, 0, 0, 1], dtype=int64)"
            ]
          },
          "execution_count": 23,
          "metadata": {},
          "output_type": "execute_result"
        }
      ],
      "source": [
        "# Define the target set y using the glacier_retreat column\n",
        "# Remember that .values creates a numpy array\n",
        "y = df_parameters_1[\"glacier_retreat\"].values\n",
        "y"
      ]
    },
    {
      "cell_type": "code",
      "execution_count": 24,
      "metadata": {
        "colab": {
          "base_uri": "https://localhost:8080/",
          "height": 206
        },
        "id": "IIkrD2Sn6q6z",
        "outputId": "d611ed8c-6987-4e51-a350-af6f4f79d734"
      },
      "outputs": [
        {
          "data": {
            "text/html": [
              "<div>\n",
              "<style scoped>\n",
              "    .dataframe tbody tr th:only-of-type {\n",
              "        vertical-align: middle;\n",
              "    }\n",
              "\n",
              "    .dataframe tbody tr th {\n",
              "        vertical-align: top;\n",
              "    }\n",
              "\n",
              "    .dataframe thead th {\n",
              "        text-align: right;\n",
              "    }\n",
              "</style>\n",
              "<table border=\"1\" class=\"dataframe\">\n",
              "  <thead>\n",
              "    <tr style=\"text-align: right;\">\n",
              "      <th></th>\n",
              "      <th>AFE</th>\n",
              "      <th>AFW</th>\n",
              "      <th>AGO</th>\n",
              "      <th>ALB</th>\n",
              "      <th>ARB</th>\n",
              "      <th>ARE</th>\n",
              "      <th>ARG</th>\n",
              "      <th>ARM</th>\n",
              "      <th>ASM</th>\n",
              "      <th>ATG</th>\n",
              "      <th>...</th>\n",
              "      <th>USA</th>\n",
              "      <th>UZB</th>\n",
              "      <th>VCT</th>\n",
              "      <th>VEN</th>\n",
              "      <th>VGB</th>\n",
              "      <th>VIR</th>\n",
              "      <th>VNM</th>\n",
              "      <th>WLD</th>\n",
              "      <th>WSM</th>\n",
              "      <th>ZMB</th>\n",
              "    </tr>\n",
              "  </thead>\n",
              "  <tbody>\n",
              "    <tr>\n",
              "      <th>0</th>\n",
              "      <td>-0.151253</td>\n",
              "      <td>-0.118162</td>\n",
              "      <td>-0.124663</td>\n",
              "      <td>-0.071168</td>\n",
              "      <td>-0.018069</td>\n",
              "      <td>0.090721</td>\n",
              "      <td>-0.066723</td>\n",
              "      <td>0.000000</td>\n",
              "      <td>-0.17</td>\n",
              "      <td>-0.15</td>\n",
              "      <td>...</td>\n",
              "      <td>0.011857</td>\n",
              "      <td>0.000000</td>\n",
              "      <td>0.25641</td>\n",
              "      <td>-0.325945</td>\n",
              "      <td>-0.026667</td>\n",
              "      <td>-1.162857</td>\n",
              "      <td>0.739851</td>\n",
              "      <td>0.000000</td>\n",
              "      <td>-0.170318</td>\n",
              "      <td>-0.048158</td>\n",
              "    </tr>\n",
              "    <tr>\n",
              "      <th>1</th>\n",
              "      <td>-0.151253</td>\n",
              "      <td>-0.118162</td>\n",
              "      <td>-0.124663</td>\n",
              "      <td>-0.071168</td>\n",
              "      <td>-0.018074</td>\n",
              "      <td>0.090721</td>\n",
              "      <td>-0.066723</td>\n",
              "      <td>11.742606</td>\n",
              "      <td>-0.17</td>\n",
              "      <td>-0.15</td>\n",
              "      <td>...</td>\n",
              "      <td>0.011857</td>\n",
              "      <td>6.186621</td>\n",
              "      <td>0.25641</td>\n",
              "      <td>-0.325945</td>\n",
              "      <td>-0.026667</td>\n",
              "      <td>-1.162857</td>\n",
              "      <td>0.739851</td>\n",
              "      <td>32.511019</td>\n",
              "      <td>-0.170318</td>\n",
              "      <td>-0.048158</td>\n",
              "    </tr>\n",
              "    <tr>\n",
              "      <th>2</th>\n",
              "      <td>-0.151253</td>\n",
              "      <td>-0.118162</td>\n",
              "      <td>-0.124663</td>\n",
              "      <td>-0.071168</td>\n",
              "      <td>-0.018069</td>\n",
              "      <td>0.090721</td>\n",
              "      <td>-0.066723</td>\n",
              "      <td>-0.007341</td>\n",
              "      <td>-0.17</td>\n",
              "      <td>-0.15</td>\n",
              "      <td>...</td>\n",
              "      <td>0.011857</td>\n",
              "      <td>0.096871</td>\n",
              "      <td>0.25641</td>\n",
              "      <td>-0.325945</td>\n",
              "      <td>-0.026667</td>\n",
              "      <td>-1.162857</td>\n",
              "      <td>0.739851</td>\n",
              "      <td>-0.056167</td>\n",
              "      <td>-0.170318</td>\n",
              "      <td>-0.048158</td>\n",
              "    </tr>\n",
              "  </tbody>\n",
              "</table>\n",
              "<p>3 rows × 228 columns</p>\n",
              "</div>"
            ],
            "text/plain": [
              "        AFE       AFW       AGO       ALB       ARB       ARE       ARG  \\\n",
              "0 -0.151253 -0.118162 -0.124663 -0.071168 -0.018069  0.090721 -0.066723   \n",
              "1 -0.151253 -0.118162 -0.124663 -0.071168 -0.018074  0.090721 -0.066723   \n",
              "2 -0.151253 -0.118162 -0.124663 -0.071168 -0.018069  0.090721 -0.066723   \n",
              "\n",
              "         ARM   ASM   ATG  ...       USA       UZB      VCT       VEN  \\\n",
              "0   0.000000 -0.17 -0.15  ...  0.011857  0.000000  0.25641 -0.325945   \n",
              "1  11.742606 -0.17 -0.15  ...  0.011857  6.186621  0.25641 -0.325945   \n",
              "2  -0.007341 -0.17 -0.15  ...  0.011857  0.096871  0.25641 -0.325945   \n",
              "\n",
              "        VGB       VIR       VNM        WLD       WSM       ZMB  \n",
              "0 -0.026667 -1.162857  0.739851   0.000000 -0.170318 -0.048158  \n",
              "1 -0.026667 -1.162857  0.739851  32.511019 -0.170318 -0.048158  \n",
              "2 -0.026667 -1.162857  0.739851  -0.056167 -0.170318 -0.048158  \n",
              "\n",
              "[3 rows x 228 columns]"
            ]
          },
          "metadata": {},
          "output_type": "display_data"
        },
        {
          "data": {
            "text/html": [
              "<div>\n",
              "<style scoped>\n",
              "    .dataframe tbody tr th:only-of-type {\n",
              "        vertical-align: middle;\n",
              "    }\n",
              "\n",
              "    .dataframe tbody tr th {\n",
              "        vertical-align: top;\n",
              "    }\n",
              "\n",
              "    .dataframe thead th {\n",
              "        text-align: right;\n",
              "    }\n",
              "</style>\n",
              "<table border=\"1\" class=\"dataframe\">\n",
              "  <thead>\n",
              "    <tr style=\"text-align: right;\">\n",
              "      <th></th>\n",
              "      <th>AFE</th>\n",
              "      <th>AFW</th>\n",
              "      <th>AGO</th>\n",
              "      <th>ALB</th>\n",
              "      <th>ARB</th>\n",
              "      <th>ARE</th>\n",
              "      <th>ARG</th>\n",
              "      <th>ARM</th>\n",
              "      <th>ASM</th>\n",
              "      <th>ATG</th>\n",
              "      <th>...</th>\n",
              "      <th>USA</th>\n",
              "      <th>UZB</th>\n",
              "      <th>VCT</th>\n",
              "      <th>VEN</th>\n",
              "      <th>VGB</th>\n",
              "      <th>VIR</th>\n",
              "      <th>VNM</th>\n",
              "      <th>WLD</th>\n",
              "      <th>WSM</th>\n",
              "      <th>ZMB</th>\n",
              "    </tr>\n",
              "  </thead>\n",
              "  <tbody>\n",
              "    <tr>\n",
              "      <th>28</th>\n",
              "      <td>-0.219886</td>\n",
              "      <td>-0.084885</td>\n",
              "      <td>-0.445231</td>\n",
              "      <td>0.0</td>\n",
              "      <td>-0.017800</td>\n",
              "      <td>0.0</td>\n",
              "      <td>-0.040195</td>\n",
              "      <td>-0.007376</td>\n",
              "      <td>-0.15</td>\n",
              "      <td>-0.159091</td>\n",
              "      <td>...</td>\n",
              "      <td>0.0</td>\n",
              "      <td>0.059253</td>\n",
              "      <td>0.0</td>\n",
              "      <td>-0.074554</td>\n",
              "      <td>0.0</td>\n",
              "      <td>0.428571</td>\n",
              "      <td>0.24216</td>\n",
              "      <td>-0.038881</td>\n",
              "      <td>-0.172662</td>\n",
              "      <td>-0.253191</td>\n",
              "    </tr>\n",
              "    <tr>\n",
              "      <th>29</th>\n",
              "      <td>-0.217373</td>\n",
              "      <td>-0.084437</td>\n",
              "      <td>-0.445223</td>\n",
              "      <td>0.0</td>\n",
              "      <td>-0.017726</td>\n",
              "      <td>0.0</td>\n",
              "      <td>-0.039464</td>\n",
              "      <td>-0.007376</td>\n",
              "      <td>-0.15</td>\n",
              "      <td>-0.136364</td>\n",
              "      <td>...</td>\n",
              "      <td>0.0</td>\n",
              "      <td>0.056848</td>\n",
              "      <td>0.0</td>\n",
              "      <td>-0.046596</td>\n",
              "      <td>0.0</td>\n",
              "      <td>0.428571</td>\n",
              "      <td>0.24216</td>\n",
              "      <td>-0.036850</td>\n",
              "      <td>-0.172662</td>\n",
              "      <td>-0.253178</td>\n",
              "    </tr>\n",
              "    <tr>\n",
              "      <th>30</th>\n",
              "      <td>-0.219059</td>\n",
              "      <td>-0.084741</td>\n",
              "      <td>-0.445229</td>\n",
              "      <td>0.0</td>\n",
              "      <td>-0.017774</td>\n",
              "      <td>0.0</td>\n",
              "      <td>-0.039951</td>\n",
              "      <td>-0.007376</td>\n",
              "      <td>-0.15</td>\n",
              "      <td>-0.151591</td>\n",
              "      <td>...</td>\n",
              "      <td>0.0</td>\n",
              "      <td>0.058583</td>\n",
              "      <td>0.0</td>\n",
              "      <td>-0.065234</td>\n",
              "      <td>0.0</td>\n",
              "      <td>0.428571</td>\n",
              "      <td>0.24216</td>\n",
              "      <td>0.000144</td>\n",
              "      <td>-0.172662</td>\n",
              "      <td>-0.253187</td>\n",
              "    </tr>\n",
              "  </tbody>\n",
              "</table>\n",
              "<p>3 rows × 228 columns</p>\n",
              "</div>"
            ],
            "text/plain": [
              "         AFE       AFW       AGO  ALB       ARB  ARE       ARG       ARM  \\\n",
              "28 -0.219886 -0.084885 -0.445231  0.0 -0.017800  0.0 -0.040195 -0.007376   \n",
              "29 -0.217373 -0.084437 -0.445223  0.0 -0.017726  0.0 -0.039464 -0.007376   \n",
              "30 -0.219059 -0.084741 -0.445229  0.0 -0.017774  0.0 -0.039951 -0.007376   \n",
              "\n",
              "     ASM       ATG  ...  USA       UZB  VCT       VEN  VGB       VIR      VNM  \\\n",
              "28 -0.15 -0.159091  ...  0.0  0.059253  0.0 -0.074554  0.0  0.428571  0.24216   \n",
              "29 -0.15 -0.136364  ...  0.0  0.056848  0.0 -0.046596  0.0  0.428571  0.24216   \n",
              "30 -0.15 -0.151591  ...  0.0  0.058583  0.0 -0.065234  0.0  0.428571  0.24216   \n",
              "\n",
              "         WLD       WSM       ZMB  \n",
              "28 -0.038881 -0.172662 -0.253191  \n",
              "29 -0.036850 -0.172662 -0.253178  \n",
              "30  0.000144 -0.172662 -0.253187  \n",
              "\n",
              "[3 rows x 228 columns]"
            ]
          },
          "metadata": {},
          "output_type": "display_data"
        }
      ],
      "source": [
        "# Define features set X by selecting remaining columns, drop year and \n",
        "# glacier_retreat\n",
        "X = df_parameters_1.drop([\"year\",\"glacier_retreat\"],axis=1)\n",
        "\n",
        "# Review the features DataFrame\n",
        "display(X.head(3),X.tail(3))"
      ]
    },
    {
      "cell_type": "markdown",
      "metadata": {
        "id": "QmM9c-tj6q6z"
      },
      "source": [
        "### Step 3: Split the features and target sets into training and testing datasets.\n"
      ]
    },
    {
      "cell_type": "code",
      "execution_count": 25,
      "metadata": {
        "id": "OD7xwU_96q6z"
      },
      "outputs": [],
      "source": [
        "# Split the preprocessed data into a training and testing dataset\n",
        "# First Pass: test_size=0.3  \n",
        "# Third Pass: .2 Loss: 10.720776557922363, Accuracy: 0.2857142984867096\n",
        "# Assign the function a random_state equal to 13\n",
        "X_train, X_test, y_train, y_test = train_test_split(X, y, test_size=0.3, random_state=13)"
      ]
    },
    {
      "cell_type": "markdown",
      "metadata": {
        "id": "G9i6DHY06q6z"
      },
      "source": [
        "### Step 4: Use scikit-learn's `StandardScaler` to scale the features data."
      ]
    },
    {
      "cell_type": "code",
      "execution_count": 26,
      "metadata": {
        "id": "BzD3z20m6q6z"
      },
      "outputs": [],
      "source": [
        "# Create a StandardScaler instance\n",
        "scaler = StandardScaler()\n",
        "\n",
        "# Fit the scaler to the features training dataset\n",
        "X_scaler = scaler.fit(X_train)\n",
        "\n",
        "# Scale the Data <<< added by student\n",
        "X_train_scaled = X_scaler.transform(X_train)\n",
        "X_test_scaled = X_scaler.transform(X_test)\n"
      ]
    },
    {
      "cell_type": "markdown",
      "metadata": {
        "id": "CZzVDjba6q6z"
      },
      "source": [
        "---\n",
        "\n",
        "## Compile and Evaluate a Model Using a Neural Network"
      ]
    },
    {
      "cell_type": "markdown",
      "metadata": {
        "id": "m-pSux4Q6q60"
      },
      "source": [
        "### Step 1: Create a deep neural network by assigning the number of input features, the number of layers, and the number of neurons on each layer using Tensorflow’s Keras.\n",
        "\n"
      ]
    },
    {
      "cell_type": "code",
      "execution_count": 27,
      "metadata": {
        "colab": {
          "base_uri": "https://localhost:8080/"
        },
        "id": "t5C94FCd6q60",
        "outputId": "0d3a0d11-91cf-468c-fdc2-c82c95bf4d56"
      },
      "outputs": [
        {
          "data": {
            "text/plain": [
              "228"
            ]
          },
          "execution_count": 27,
          "metadata": {},
          "output_type": "execute_result"
        }
      ],
      "source": [
        "# Define the the number of inputs (features) to the model (old value was 11)\n",
        "number_input_features = len(X_train.columns)\n",
        "# Review the number of features\n",
        "number_input_features"
      ]
    },
    {
      "cell_type": "code",
      "execution_count": 28,
      "metadata": {
        "id": "c_KXDLkF6q60"
      },
      "outputs": [],
      "source": [
        "#Note: first pass effort 220 / 100 / 1 Loss: 300.2790222167969, Accuracy: 0.5 testsize .3\n",
        "# Second Pass   100 / 50 / 1  Loss: 91.33601379394531, Accuracy: 0.6000000238418579\n",
        "# Third Pass  200 / 25/ 1  Loss: 1818.3104248046875, Accuracy: 0.375\n",
        "\n",
        "\n",
        "# Define the number of hidden nodes for the first hidden layer\n",
        "hidden_nodes_layer1 =  100\n",
        "# Define the number of hidden nodes for the second hidden layer\n",
        "hidden_nodes_layer2 = 50\n",
        "# Define the number of neurons in the output layer\n",
        "nn_output_layer = 1"
      ]
    },
    {
      "cell_type": "code",
      "execution_count": 29,
      "metadata": {
        "colab": {
          "base_uri": "https://localhost:8080/"
        },
        "id": "63UdFncw6q60",
        "outputId": "4375e0d1-3794-4224-8f77-7c3557fb0c3b"
      },
      "outputs": [
        {
          "name": "stderr",
          "output_type": "stream",
          "text": [
            "c:\\Users\\frisb\\anaconda3\\envs\\dev\\lib\\site-packages\\keras\\src\\layers\\core\\dense.py:87: UserWarning: Do not pass an `input_shape`/`input_dim` argument to a layer. When using Sequential models, prefer using an `Input(shape)` object as the first layer in the model instead.\n",
            "  super().__init__(activity_regularizer=activity_regularizer, **kwargs)\n"
          ]
        }
      ],
      "source": [
        "# Create the Sequential model instance\n",
        "nn = tf.keras.models.Sequential()\n",
        "\n",
        "# Add the first hidden layer\n",
        "nn.add(tf.keras.layers.Dense(units=hidden_nodes_layer1,\n",
        "                             input_dim=number_input_features,activation=\"relu\"))\n",
        "\n",
        "# Add the second hidden layer\n",
        "nn.add(tf.keras.layers.Dense(units=hidden_nodes_layer2, activation=\"relu\"))\n",
        "\n",
        "# Add the output layer to the model specifying the number of output neurons\n",
        "# and activation function\n",
        "nn.add(tf.keras.layers.Dense(units=nn_output_layer, activation=\"sigmoid\"))"
      ]
    },
    {
      "cell_type": "code",
      "execution_count": 30,
      "metadata": {
        "colab": {
          "base_uri": "https://localhost:8080/",
          "height": 234
        },
        "id": "-Beoh4f_6q61",
        "outputId": "1b9b9749-b9aa-4603-aa8a-0db3014ddd9e"
      },
      "outputs": [
        {
          "data": {
            "text/html": [
              "<pre style=\"white-space:pre;overflow-x:auto;line-height:normal;font-family:Menlo,'DejaVu Sans Mono',consolas,'Courier New',monospace\"><span style=\"font-weight: bold\">Model: \"sequential_1\"</span>\n",
              "</pre>\n"
            ],
            "text/plain": [
              "\u001b[1mModel: \"sequential_1\"\u001b[0m\n"
            ]
          },
          "metadata": {},
          "output_type": "display_data"
        },
        {
          "data": {
            "text/html": [
              "<pre style=\"white-space:pre;overflow-x:auto;line-height:normal;font-family:Menlo,'DejaVu Sans Mono',consolas,'Courier New',monospace\">┏━━━━━━━━━━━━━━━━━━━━━━━━━━━━━━━━━┳━━━━━━━━━━━━━━━━━━━━━━━━┳━━━━━━━━━━━━━━━┓\n",
              "┃<span style=\"font-weight: bold\"> Layer (type)                    </span>┃<span style=\"font-weight: bold\"> Output Shape           </span>┃<span style=\"font-weight: bold\">       Param # </span>┃\n",
              "┡━━━━━━━━━━━━━━━━━━━━━━━━━━━━━━━━━╇━━━━━━━━━━━━━━━━━━━━━━━━╇━━━━━━━━━━━━━━━┩\n",
              "│ dense_3 (<span style=\"color: #0087ff; text-decoration-color: #0087ff\">Dense</span>)                 │ (<span style=\"color: #00d7ff; text-decoration-color: #00d7ff\">None</span>, <span style=\"color: #00af00; text-decoration-color: #00af00\">100</span>)            │        <span style=\"color: #00af00; text-decoration-color: #00af00\">22,900</span> │\n",
              "├─────────────────────────────────┼────────────────────────┼───────────────┤\n",
              "│ dense_4 (<span style=\"color: #0087ff; text-decoration-color: #0087ff\">Dense</span>)                 │ (<span style=\"color: #00d7ff; text-decoration-color: #00d7ff\">None</span>, <span style=\"color: #00af00; text-decoration-color: #00af00\">50</span>)             │         <span style=\"color: #00af00; text-decoration-color: #00af00\">5,050</span> │\n",
              "├─────────────────────────────────┼────────────────────────┼───────────────┤\n",
              "│ dense_5 (<span style=\"color: #0087ff; text-decoration-color: #0087ff\">Dense</span>)                 │ (<span style=\"color: #00d7ff; text-decoration-color: #00d7ff\">None</span>, <span style=\"color: #00af00; text-decoration-color: #00af00\">1</span>)              │            <span style=\"color: #00af00; text-decoration-color: #00af00\">51</span> │\n",
              "└─────────────────────────────────┴────────────────────────┴───────────────┘\n",
              "</pre>\n"
            ],
            "text/plain": [
              "┏━━━━━━━━━━━━━━━━━━━━━━━━━━━━━━━━━┳━━━━━━━━━━━━━━━━━━━━━━━━┳━━━━━━━━━━━━━━━┓\n",
              "┃\u001b[1m \u001b[0m\u001b[1mLayer (type)                   \u001b[0m\u001b[1m \u001b[0m┃\u001b[1m \u001b[0m\u001b[1mOutput Shape          \u001b[0m\u001b[1m \u001b[0m┃\u001b[1m \u001b[0m\u001b[1m      Param #\u001b[0m\u001b[1m \u001b[0m┃\n",
              "┡━━━━━━━━━━━━━━━━━━━━━━━━━━━━━━━━━╇━━━━━━━━━━━━━━━━━━━━━━━━╇━━━━━━━━━━━━━━━┩\n",
              "│ dense_3 (\u001b[38;5;33mDense\u001b[0m)                 │ (\u001b[38;5;45mNone\u001b[0m, \u001b[38;5;34m100\u001b[0m)            │        \u001b[38;5;34m22,900\u001b[0m │\n",
              "├─────────────────────────────────┼────────────────────────┼───────────────┤\n",
              "│ dense_4 (\u001b[38;5;33mDense\u001b[0m)                 │ (\u001b[38;5;45mNone\u001b[0m, \u001b[38;5;34m50\u001b[0m)             │         \u001b[38;5;34m5,050\u001b[0m │\n",
              "├─────────────────────────────────┼────────────────────────┼───────────────┤\n",
              "│ dense_5 (\u001b[38;5;33mDense\u001b[0m)                 │ (\u001b[38;5;45mNone\u001b[0m, \u001b[38;5;34m1\u001b[0m)              │            \u001b[38;5;34m51\u001b[0m │\n",
              "└─────────────────────────────────┴────────────────────────┴───────────────┘\n"
            ]
          },
          "metadata": {},
          "output_type": "display_data"
        },
        {
          "data": {
            "text/html": [
              "<pre style=\"white-space:pre;overflow-x:auto;line-height:normal;font-family:Menlo,'DejaVu Sans Mono',consolas,'Courier New',monospace\"><span style=\"font-weight: bold\"> Total params: </span><span style=\"color: #00af00; text-decoration-color: #00af00\">28,001</span> (109.38 KB)\n",
              "</pre>\n"
            ],
            "text/plain": [
              "\u001b[1m Total params: \u001b[0m\u001b[38;5;34m28,001\u001b[0m (109.38 KB)\n"
            ]
          },
          "metadata": {},
          "output_type": "display_data"
        },
        {
          "data": {
            "text/html": [
              "<pre style=\"white-space:pre;overflow-x:auto;line-height:normal;font-family:Menlo,'DejaVu Sans Mono',consolas,'Courier New',monospace\"><span style=\"font-weight: bold\"> Trainable params: </span><span style=\"color: #00af00; text-decoration-color: #00af00\">28,001</span> (109.38 KB)\n",
              "</pre>\n"
            ],
            "text/plain": [
              "\u001b[1m Trainable params: \u001b[0m\u001b[38;5;34m28,001\u001b[0m (109.38 KB)\n"
            ]
          },
          "metadata": {},
          "output_type": "display_data"
        },
        {
          "data": {
            "text/html": [
              "<pre style=\"white-space:pre;overflow-x:auto;line-height:normal;font-family:Menlo,'DejaVu Sans Mono',consolas,'Courier New',monospace\"><span style=\"font-weight: bold\"> Non-trainable params: </span><span style=\"color: #00af00; text-decoration-color: #00af00\">0</span> (0.00 B)\n",
              "</pre>\n"
            ],
            "text/plain": [
              "\u001b[1m Non-trainable params: \u001b[0m\u001b[38;5;34m0\u001b[0m (0.00 B)\n"
            ]
          },
          "metadata": {},
          "output_type": "display_data"
        }
      ],
      "source": [
        "# Display the Sequential model summary\n",
        "nn.summary()"
      ]
    },
    {
      "cell_type": "markdown",
      "metadata": {
        "id": "nRqWGIRo6q61"
      },
      "source": [
        "### Step 2: Compile and fit the model using the `binary_crossentropy` loss function, the `adam` optimizer, and the `accuracy` evaluation metric.\n"
      ]
    },
    {
      "cell_type": "code",
      "execution_count": 31,
      "metadata": {
        "id": "E-hZaeSn6q61"
      },
      "outputs": [],
      "source": [
        "# Compile the Sequential model\n",
        "nn.compile(loss=\"binary_crossentropy\", optimizer='adam', metrics=[\"accuracy\"])"
      ]
    },
    {
      "cell_type": "code",
      "execution_count": 32,
      "metadata": {
        "colab": {
          "base_uri": "https://localhost:8080/"
        },
        "id": "x25e8Idc6q61",
        "outputId": "23444df1-fa0f-40b9-961d-ee066a3fd001"
      },
      "outputs": [
        {
          "name": "stdout",
          "output_type": "stream",
          "text": [
            "Epoch 1/50\n",
            "\u001b[1m1/1\u001b[0m \u001b[32m━━━━━━━━━━━━━━━━━━━━\u001b[0m\u001b[37m\u001b[0m \u001b[1m1s\u001b[0m 678ms/step - accuracy: 0.5714 - loss: 0.6769\n",
            "Epoch 2/50\n",
            "\u001b[1m1/1\u001b[0m \u001b[32m━━━━━━━━━━━━━━━━━━━━\u001b[0m\u001b[37m\u001b[0m \u001b[1m0s\u001b[0m 17ms/step - accuracy: 0.6190 - loss: 0.5623\n",
            "Epoch 3/50\n",
            "\u001b[1m1/1\u001b[0m \u001b[32m━━━━━━━━━━━━━━━━━━━━\u001b[0m\u001b[37m\u001b[0m \u001b[1m0s\u001b[0m 20ms/step - accuracy: 0.7619 - loss: 0.4901\n",
            "Epoch 4/50\n",
            "\u001b[1m1/1\u001b[0m \u001b[32m━━━━━━━━━━━━━━━━━━━━\u001b[0m\u001b[37m\u001b[0m \u001b[1m0s\u001b[0m 12ms/step - accuracy: 0.8571 - loss: 0.4397\n",
            "Epoch 5/50\n",
            "\u001b[1m1/1\u001b[0m \u001b[32m━━━━━━━━━━━━━━━━━━━━\u001b[0m\u001b[37m\u001b[0m \u001b[1m0s\u001b[0m 21ms/step - accuracy: 0.9048 - loss: 0.3999\n",
            "Epoch 6/50\n",
            "\u001b[1m1/1\u001b[0m \u001b[32m━━━━━━━━━━━━━━━━━━━━\u001b[0m\u001b[37m\u001b[0m \u001b[1m0s\u001b[0m 31ms/step - accuracy: 0.9524 - loss: 0.3665\n",
            "Epoch 7/50\n",
            "\u001b[1m1/1\u001b[0m \u001b[32m━━━━━━━━━━━━━━━━━━━━\u001b[0m\u001b[37m\u001b[0m \u001b[1m0s\u001b[0m 20ms/step - accuracy: 0.9524 - loss: 0.3373\n",
            "Epoch 8/50\n",
            "\u001b[1m1/1\u001b[0m \u001b[32m━━━━━━━━━━━━━━━━━━━━\u001b[0m\u001b[37m\u001b[0m \u001b[1m0s\u001b[0m 16ms/step - accuracy: 1.0000 - loss: 0.3134\n",
            "Epoch 9/50\n",
            "\u001b[1m1/1\u001b[0m \u001b[32m━━━━━━━━━━━━━━━━━━━━\u001b[0m\u001b[37m\u001b[0m \u001b[1m0s\u001b[0m 27ms/step - accuracy: 0.9524 - loss: 0.2937\n",
            "Epoch 10/50\n",
            "\u001b[1m1/1\u001b[0m \u001b[32m━━━━━━━━━━━━━━━━━━━━\u001b[0m\u001b[37m\u001b[0m \u001b[1m0s\u001b[0m 20ms/step - accuracy: 0.9524 - loss: 0.2756\n",
            "Epoch 11/50\n",
            "\u001b[1m1/1\u001b[0m \u001b[32m━━━━━━━━━━━━━━━━━━━━\u001b[0m\u001b[37m\u001b[0m \u001b[1m0s\u001b[0m 17ms/step - accuracy: 0.9524 - loss: 0.2596\n",
            "Epoch 12/50\n",
            "\u001b[1m1/1\u001b[0m \u001b[32m━━━━━━━━━━━━━━━━━━━━\u001b[0m\u001b[37m\u001b[0m \u001b[1m0s\u001b[0m 16ms/step - accuracy: 0.9524 - loss: 0.2459\n",
            "Epoch 13/50\n",
            "\u001b[1m1/1\u001b[0m \u001b[32m━━━━━━━━━━━━━━━━━━━━\u001b[0m\u001b[37m\u001b[0m \u001b[1m0s\u001b[0m 29ms/step - accuracy: 0.9524 - loss: 0.2332\n",
            "Epoch 14/50\n",
            "\u001b[1m1/1\u001b[0m \u001b[32m━━━━━━━━━━━━━━━━━━━━\u001b[0m\u001b[37m\u001b[0m \u001b[1m0s\u001b[0m 18ms/step - accuracy: 1.0000 - loss: 0.2221\n",
            "Epoch 15/50\n",
            "\u001b[1m1/1\u001b[0m \u001b[32m━━━━━━━━━━━━━━━━━━━━\u001b[0m\u001b[37m\u001b[0m \u001b[1m0s\u001b[0m 15ms/step - accuracy: 1.0000 - loss: 0.2126\n",
            "Epoch 16/50\n",
            "\u001b[1m1/1\u001b[0m \u001b[32m━━━━━━━━━━━━━━━━━━━━\u001b[0m\u001b[37m\u001b[0m \u001b[1m0s\u001b[0m 17ms/step - accuracy: 0.9524 - loss: 0.2039\n",
            "Epoch 17/50\n",
            "\u001b[1m1/1\u001b[0m \u001b[32m━━━━━━━━━━━━━━━━━━━━\u001b[0m\u001b[37m\u001b[0m \u001b[1m0s\u001b[0m 17ms/step - accuracy: 0.9524 - loss: 0.1950\n",
            "Epoch 18/50\n",
            "\u001b[1m1/1\u001b[0m \u001b[32m━━━━━━━━━━━━━━━━━━━━\u001b[0m\u001b[37m\u001b[0m \u001b[1m0s\u001b[0m 20ms/step - accuracy: 1.0000 - loss: 0.1866\n",
            "Epoch 19/50\n",
            "\u001b[1m1/1\u001b[0m \u001b[32m━━━━━━━━━━━━━━━━━━━━\u001b[0m\u001b[37m\u001b[0m \u001b[1m0s\u001b[0m 17ms/step - accuracy: 1.0000 - loss: 0.1785 \n",
            "Epoch 20/50\n",
            "\u001b[1m1/1\u001b[0m \u001b[32m━━━━━━━━━━━━━━━━━━━━\u001b[0m\u001b[37m\u001b[0m \u001b[1m0s\u001b[0m 15ms/step - accuracy: 1.0000 - loss: 0.1711\n",
            "Epoch 21/50\n",
            "\u001b[1m1/1\u001b[0m \u001b[32m━━━━━━━━━━━━━━━━━━━━\u001b[0m\u001b[37m\u001b[0m \u001b[1m0s\u001b[0m 17ms/step - accuracy: 1.0000 - loss: 0.1643\n",
            "Epoch 22/50\n",
            "\u001b[1m1/1\u001b[0m \u001b[32m━━━━━━━━━━━━━━━━━━━━\u001b[0m\u001b[37m\u001b[0m \u001b[1m0s\u001b[0m 16ms/step - accuracy: 1.0000 - loss: 0.1578\n",
            "Epoch 23/50\n",
            "\u001b[1m1/1\u001b[0m \u001b[32m━━━━━━━━━━━━━━━━━━━━\u001b[0m\u001b[37m\u001b[0m \u001b[1m0s\u001b[0m 20ms/step - accuracy: 1.0000 - loss: 0.1518\n",
            "Epoch 24/50\n",
            "\u001b[1m1/1\u001b[0m \u001b[32m━━━━━━━━━━━━━━━━━━━━\u001b[0m\u001b[37m\u001b[0m \u001b[1m0s\u001b[0m 31ms/step - accuracy: 1.0000 - loss: 0.1457\n",
            "Epoch 25/50\n",
            "\u001b[1m1/1\u001b[0m \u001b[32m━━━━━━━━━━━━━━━━━━━━\u001b[0m\u001b[37m\u001b[0m \u001b[1m0s\u001b[0m 21ms/step - accuracy: 1.0000 - loss: 0.1396\n",
            "Epoch 26/50\n",
            "\u001b[1m1/1\u001b[0m \u001b[32m━━━━━━━━━━━━━━━━━━━━\u001b[0m\u001b[37m\u001b[0m \u001b[1m0s\u001b[0m 14ms/step - accuracy: 1.0000 - loss: 0.1339\n",
            "Epoch 27/50\n",
            "\u001b[1m1/1\u001b[0m \u001b[32m━━━━━━━━━━━━━━━━━━━━\u001b[0m\u001b[37m\u001b[0m \u001b[1m0s\u001b[0m 28ms/step - accuracy: 1.0000 - loss: 0.1287\n",
            "Epoch 28/50\n",
            "\u001b[1m1/1\u001b[0m \u001b[32m━━━━━━━━━━━━━━━━━━━━\u001b[0m\u001b[37m\u001b[0m \u001b[1m0s\u001b[0m 20ms/step - accuracy: 1.0000 - loss: 0.1235\n",
            "Epoch 29/50\n",
            "\u001b[1m1/1\u001b[0m \u001b[32m━━━━━━━━━━━━━━━━━━━━\u001b[0m\u001b[37m\u001b[0m \u001b[1m0s\u001b[0m 16ms/step - accuracy: 1.0000 - loss: 0.1184\n",
            "Epoch 30/50\n",
            "\u001b[1m1/1\u001b[0m \u001b[32m━━━━━━━━━━━━━━━━━━━━\u001b[0m\u001b[37m\u001b[0m \u001b[1m0s\u001b[0m 17ms/step - accuracy: 1.0000 - loss: 0.1136\n",
            "Epoch 31/50\n",
            "\u001b[1m1/1\u001b[0m \u001b[32m━━━━━━━━━━━━━━━━━━━━\u001b[0m\u001b[37m\u001b[0m \u001b[1m0s\u001b[0m 18ms/step - accuracy: 1.0000 - loss: 0.1090\n",
            "Epoch 32/50\n",
            "\u001b[1m1/1\u001b[0m \u001b[32m━━━━━━━━━━━━━━━━━━━━\u001b[0m\u001b[37m\u001b[0m \u001b[1m0s\u001b[0m 18ms/step - accuracy: 1.0000 - loss: 0.1048\n",
            "Epoch 33/50\n",
            "\u001b[1m1/1\u001b[0m \u001b[32m━━━━━━━━━━━━━━━━━━━━\u001b[0m\u001b[37m\u001b[0m \u001b[1m0s\u001b[0m 18ms/step - accuracy: 1.0000 - loss: 0.1006\n",
            "Epoch 34/50\n",
            "\u001b[1m1/1\u001b[0m \u001b[32m━━━━━━━━━━━━━━━━━━━━\u001b[0m\u001b[37m\u001b[0m \u001b[1m0s\u001b[0m 19ms/step - accuracy: 1.0000 - loss: 0.0967\n",
            "Epoch 35/50\n",
            "\u001b[1m1/1\u001b[0m \u001b[32m━━━━━━━━━━━━━━━━━━━━\u001b[0m\u001b[37m\u001b[0m \u001b[1m0s\u001b[0m 24ms/step - accuracy: 1.0000 - loss: 0.0930\n",
            "Epoch 36/50\n",
            "\u001b[1m1/1\u001b[0m \u001b[32m━━━━━━━━━━━━━━━━━━━━\u001b[0m\u001b[37m\u001b[0m \u001b[1m0s\u001b[0m 18ms/step - accuracy: 1.0000 - loss: 0.0894\n",
            "Epoch 37/50\n",
            "\u001b[1m1/1\u001b[0m \u001b[32m━━━━━━━━━━━━━━━━━━━━\u001b[0m\u001b[37m\u001b[0m \u001b[1m0s\u001b[0m 12ms/step - accuracy: 1.0000 - loss: 0.0859\n",
            "Epoch 38/50\n",
            "\u001b[1m1/1\u001b[0m \u001b[32m━━━━━━━━━━━━━━━━━━━━\u001b[0m\u001b[37m\u001b[0m \u001b[1m0s\u001b[0m 24ms/step - accuracy: 1.0000 - loss: 0.0825\n",
            "Epoch 39/50\n",
            "\u001b[1m1/1\u001b[0m \u001b[32m━━━━━━━━━━━━━━━━━━━━\u001b[0m\u001b[37m\u001b[0m \u001b[1m0s\u001b[0m 19ms/step - accuracy: 1.0000 - loss: 0.0791\n",
            "Epoch 40/50\n",
            "\u001b[1m1/1\u001b[0m \u001b[32m━━━━━━━━━━━━━━━━━━━━\u001b[0m\u001b[37m\u001b[0m \u001b[1m0s\u001b[0m 18ms/step - accuracy: 1.0000 - loss: 0.0759\n",
            "Epoch 41/50\n",
            "\u001b[1m1/1\u001b[0m \u001b[32m━━━━━━━━━━━━━━━━━━━━\u001b[0m\u001b[37m\u001b[0m \u001b[1m0s\u001b[0m 18ms/step - accuracy: 1.0000 - loss: 0.0729\n",
            "Epoch 42/50\n",
            "\u001b[1m1/1\u001b[0m \u001b[32m━━━━━━━━━━━━━━━━━━━━\u001b[0m\u001b[37m\u001b[0m \u001b[1m0s\u001b[0m 17ms/step - accuracy: 1.0000 - loss: 0.0701\n",
            "Epoch 43/50\n",
            "\u001b[1m1/1\u001b[0m \u001b[32m━━━━━━━━━━━━━━━━━━━━\u001b[0m\u001b[37m\u001b[0m \u001b[1m0s\u001b[0m 18ms/step - accuracy: 1.0000 - loss: 0.0675\n",
            "Epoch 44/50\n",
            "\u001b[1m1/1\u001b[0m \u001b[32m━━━━━━━━━━━━━━━━━━━━\u001b[0m\u001b[37m\u001b[0m \u001b[1m0s\u001b[0m 18ms/step - accuracy: 1.0000 - loss: 0.0649\n",
            "Epoch 45/50\n",
            "\u001b[1m1/1\u001b[0m \u001b[32m━━━━━━━━━━━━━━━━━━━━\u001b[0m\u001b[37m\u001b[0m \u001b[1m0s\u001b[0m 17ms/step - accuracy: 1.0000 - loss: 0.0625\n",
            "Epoch 46/50\n",
            "\u001b[1m1/1\u001b[0m \u001b[32m━━━━━━━━━━━━━━━━━━━━\u001b[0m\u001b[37m\u001b[0m \u001b[1m0s\u001b[0m 16ms/step - accuracy: 1.0000 - loss: 0.0602\n",
            "Epoch 47/50\n",
            "\u001b[1m1/1\u001b[0m \u001b[32m━━━━━━━━━━━━━━━━━━━━\u001b[0m\u001b[37m\u001b[0m \u001b[1m0s\u001b[0m 16ms/step - accuracy: 1.0000 - loss: 0.0579\n",
            "Epoch 48/50\n",
            "\u001b[1m1/1\u001b[0m \u001b[32m━━━━━━━━━━━━━━━━━━━━\u001b[0m\u001b[37m\u001b[0m \u001b[1m0s\u001b[0m 18ms/step - accuracy: 1.0000 - loss: 0.0557\n",
            "Epoch 49/50\n",
            "\u001b[1m1/1\u001b[0m \u001b[32m━━━━━━━━━━━━━━━━━━━━\u001b[0m\u001b[37m\u001b[0m \u001b[1m0s\u001b[0m 16ms/step - accuracy: 1.0000 - loss: 0.0533\n",
            "Epoch 50/50\n",
            "\u001b[1m1/1\u001b[0m \u001b[32m━━━━━━━━━━━━━━━━━━━━\u001b[0m\u001b[37m\u001b[0m \u001b[1m0s\u001b[0m 17ms/step - accuracy: 1.0000 - loss: 0.0510\n"
          ]
        }
      ],
      "source": [
        "# Fit the model using xxx epochs and the training data\n",
        "# Note: Varied results with 50 to 200 Epochs\n",
        "# \n",
        "fit_model = nn.fit(X_train_scaled, y_train, epochs=50)"
      ]
    },
    {
      "cell_type": "markdown",
      "metadata": {
        "id": "RfHMPZVI6q61"
      },
      "source": [
        "Step 3: Evaluate the model using the test data to determine the model’s loss and accuracy.\n"
      ]
    },
    {
      "cell_type": "code",
      "execution_count": 33,
      "metadata": {
        "colab": {
          "base_uri": "https://localhost:8080/"
        },
        "id": "5hfVADKo6q61",
        "outputId": "16a8fc63-2914-4c3f-ac25-0310315270f7"
      },
      "outputs": [
        {
          "name": "stdout",
          "output_type": "stream",
          "text": [
            "1/1 - 0s - 100ms/step - accuracy: 0.6000 - loss: 91.3360\n",
            "Loss: 91.33601379394531, Accuracy: 0.6000000238418579\n"
          ]
        }
      ],
      "source": [
        "# Evaluate the model loss and accuracy metrics using the evaluate method and the test data\n",
        "model_loss, model_accuracy = nn.evaluate(X_test_scaled,y_test,verbose=2)\n",
        "\n",
        "# Display the model loss and accuracy results\n",
        "# Note:  \n",
        "print(f\"Loss: {model_loss}, Accuracy: {model_accuracy}\")"
      ]
    },
    {
      "cell_type": "markdown",
      "metadata": {},
      "source": [
        "Note:  This model does not provide much assistance in predicting outcome.\n",
        "\n",
        "Future work:  The glacier retreat response could be slow to respond.  Try\n",
        "shifting the data.\n",
        "\n",
        "Future work:  Vary the X data, removing some columns and leaving others\n",
        "\n",
        "\n"
      ]
    },
    {
      "cell_type": "markdown",
      "metadata": {
        "id": "jpAv0rXA6q61"
      },
      "source": [
        "Step 4: Save and export the model to the file '`model_04.keras`.\n",
        "\n",
        "Second Pass:  'model_04a.keras', Third Pass\" 'model_04b.keras' etc.\n",
        "\n"
      ]
    },
    {
      "cell_type": "code",
      "execution_count": 34,
      "metadata": {
        "id": "q0MetN0W6q61"
      },
      "outputs": [],
      "source": [
        "# Set the model's file path\n",
        "file_path = Path('saved_models/model_4a.keras')\n",
        "\n",
        "# Export your model to a keras file\n",
        "nn.save(file_path)"
      ]
    },
    {
      "cell_type": "markdown",
      "metadata": {
        "id": "R1opCDdN6q61"
      },
      "source": [
        "---\n",
        "### Predict Glacier Retreat by Using your Neural Network Model"
      ]
    },
    {
      "cell_type": "markdown",
      "metadata": {
        "id": "TfIfpeiy6q61"
      },
      "source": [
        "Step 1: Reload the saved model."
      ]
    },
    {
      "cell_type": "code",
      "execution_count": 35,
      "metadata": {
        "id": "OCET2mvW6q61"
      },
      "outputs": [],
      "source": [
        "# Set the model's file path\n",
        "file_path = Path('saved_models/model_4a.keras')\n",
        "\n",
        "# Load the model to a new object\n",
        "nn = tf.keras.models.load_model(file_path)"
      ]
    },
    {
      "cell_type": "markdown",
      "metadata": {
        "id": "rTPKooGw6q61"
      },
      "source": [
        "Step 2: Make predictions on the testing data and save the predictions to a DataFrame."
      ]
    },
    {
      "cell_type": "code",
      "execution_count": 36,
      "metadata": {
        "colab": {
          "base_uri": "https://localhost:8080/"
        },
        "id": "Vet7qjgx6q62",
        "outputId": "55bfea7f-40b4-4e59-cab9-fc882ea5cd45"
      },
      "outputs": [
        {
          "name": "stdout",
          "output_type": "stream",
          "text": [
            "1/1 - 0s - 41ms/step\n"
          ]
        },
        {
          "data": {
            "text/plain": [
              "array([[1.4659476e-01],\n",
              "       [2.7745934e-11],\n",
              "       [3.8412756e-01],\n",
              "       [0.0000000e+00],\n",
              "       [6.8043137e-01]], dtype=float32)"
            ]
          },
          "execution_count": 36,
          "metadata": {},
          "output_type": "execute_result"
        }
      ],
      "source": [
        "# Make predictions with the test data\n",
        "predictions = nn.predict(X_test_scaled,verbose=2)\n",
        "\n",
        "# Display a sample of the predictions\n",
        "predictions[0:5]"
      ]
    },
    {
      "cell_type": "code",
      "execution_count": 37,
      "metadata": {
        "colab": {
          "base_uri": "https://localhost:8080/",
          "height": 423
        },
        "id": "87o8exFPhjfl",
        "outputId": "83e96149-19db-449c-df68-54cdc6152fb8"
      },
      "outputs": [
        {
          "data": {
            "text/html": [
              "<div>\n",
              "<style scoped>\n",
              "    .dataframe tbody tr th:only-of-type {\n",
              "        vertical-align: middle;\n",
              "    }\n",
              "\n",
              "    .dataframe tbody tr th {\n",
              "        vertical-align: top;\n",
              "    }\n",
              "\n",
              "    .dataframe thead th {\n",
              "        text-align: right;\n",
              "    }\n",
              "</style>\n",
              "<table border=\"1\" class=\"dataframe\">\n",
              "  <thead>\n",
              "    <tr style=\"text-align: right;\">\n",
              "      <th></th>\n",
              "      <th>predictions</th>\n",
              "    </tr>\n",
              "  </thead>\n",
              "  <tbody>\n",
              "    <tr>\n",
              "      <th>0</th>\n",
              "      <td>0.0</td>\n",
              "    </tr>\n",
              "    <tr>\n",
              "      <th>1</th>\n",
              "      <td>0.0</td>\n",
              "    </tr>\n",
              "    <tr>\n",
              "      <th>2</th>\n",
              "      <td>0.0</td>\n",
              "    </tr>\n",
              "    <tr>\n",
              "      <th>3</th>\n",
              "      <td>0.0</td>\n",
              "    </tr>\n",
              "    <tr>\n",
              "      <th>4</th>\n",
              "      <td>1.0</td>\n",
              "    </tr>\n",
              "    <tr>\n",
              "      <th>5</th>\n",
              "      <td>1.0</td>\n",
              "    </tr>\n",
              "    <tr>\n",
              "      <th>6</th>\n",
              "      <td>1.0</td>\n",
              "    </tr>\n",
              "    <tr>\n",
              "      <th>7</th>\n",
              "      <td>0.0</td>\n",
              "    </tr>\n",
              "    <tr>\n",
              "      <th>8</th>\n",
              "      <td>0.0</td>\n",
              "    </tr>\n",
              "    <tr>\n",
              "      <th>9</th>\n",
              "      <td>0.0</td>\n",
              "    </tr>\n",
              "  </tbody>\n",
              "</table>\n",
              "</div>"
            ],
            "text/plain": [
              "   predictions\n",
              "0          0.0\n",
              "1          0.0\n",
              "2          0.0\n",
              "3          0.0\n",
              "4          1.0\n",
              "5          1.0\n",
              "6          1.0\n",
              "7          0.0\n",
              "8          0.0\n",
              "9          0.0"
            ]
          },
          "execution_count": 37,
          "metadata": {},
          "output_type": "execute_result"
        }
      ],
      "source": [
        "# Save the predictions to a DataFrame and round the predictions to binary results\n",
        "predictions_df = pd.DataFrame(columns=[\"predictions\"], data=predictions)\n",
        "predictions_df[\"predictions\"] = round(predictions_df[\"predictions\"],0)\n",
        "predictions_df"
      ]
    },
    {
      "cell_type": "markdown",
      "metadata": {
        "id": "oxxLwycg6q62"
      },
      "source": [
        "### Step 4: Display a classification report with the y test data and predictions"
      ]
    },
    {
      "cell_type": "code",
      "execution_count": 38,
      "metadata": {
        "colab": {
          "base_uri": "https://localhost:8080/"
        },
        "id": "UTxYZibW6q67",
        "outputId": "00b45c02-3424-4a19-e441-41ecebe6d0a1"
      },
      "outputs": [
        {
          "name": "stdout",
          "output_type": "stream",
          "text": [
            "              precision    recall  f1-score   support\n",
            "\n",
            "           0       0.57      0.80      0.67         5\n",
            "           1       0.67      0.40      0.50         5\n",
            "\n",
            "    accuracy                           0.60        10\n",
            "   macro avg       0.62      0.60      0.58        10\n",
            "weighted avg       0.62      0.60      0.58        10\n",
            "\n"
          ]
        }
      ],
      "source": [
        "# Print the classification report with the y test data and predictions\n",
        "print(classification_report(y_test, predictions_df[\"predictions\"].values))"
      ]
    }
  ],
  "metadata": {
    "colab": {
      "provenance": [],
      "toc_visible": true
    },
    "kernelspec": {
      "display_name": "Python 3 (ipykernel)",
      "language": "python",
      "name": "python3"
    },
    "language_info": {
      "codemirror_mode": {
        "name": "ipython",
        "version": 3
      },
      "file_extension": ".py",
      "mimetype": "text/x-python",
      "name": "python",
      "nbconvert_exporter": "python",
      "pygments_lexer": "ipython3",
      "version": "3.10.14"
    }
  },
  "nbformat": 4,
  "nbformat_minor": 0
}
